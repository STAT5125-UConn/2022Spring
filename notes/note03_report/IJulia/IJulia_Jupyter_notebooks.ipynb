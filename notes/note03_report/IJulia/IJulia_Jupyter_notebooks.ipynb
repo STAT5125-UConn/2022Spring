{
 "cells": [
  {
   "cell_type": "markdown",
   "metadata": {},
   "source": [
    "## Getting started with Jupyter notebooks\n",
    "\n",
    "### Running a cell\n",
    "To execute code within a cell, select that cell and either (1) hit `Shift` and `Enter` or (2) hit the run button (the right pointing arrow) above."
   ]
  },
  {
   "cell_type": "code",
   "execution_count": 3,
   "metadata": {},
   "outputs": [
    {
     "data": {
      "text/plain": [
       "4"
      ]
     },
     "execution_count": 3,
     "metadata": {},
     "output_type": "execute_result"
    }
   ],
   "source": [
    "1 + 1\n",
    "2 + 2"
   ]
  },
  {
   "cell_type": "markdown",
   "metadata": {},
   "source": [
    "If you're new to jupyter notebooks, note that only the last line of a cell prints by default when you execute that cell and that you can suppress this output with a semicolon"
   ]
  },
  {
   "cell_type": "code",
   "execution_count": 6,
   "metadata": {},
   "outputs": [
    {
     "data": {
      "text/plain": [
       "3-element Vector{Float64}:\n",
       " 0.9720098429577178\n",
       " 0.9831156805512066\n",
       " 0.8218370209144363"
      ]
     },
     "execution_count": 6,
     "metadata": {},
     "output_type": "execute_result"
    }
   ],
   "source": [
    "1 + 1\n",
    "rand(3)"
   ]
  },
  {
   "cell_type": "markdown",
   "metadata": {},
   "source": [
    "### How to get docs for Julia functions\n",
    "\n",
    "To get docs for a function you're not familiar with, precede it with a question mark. (This works at the REPL too!)"
   ]
  },
  {
   "cell_type": "code",
   "execution_count": 5,
   "metadata": {},
   "outputs": [
    {
     "name": "stdout",
     "output_type": "stream",
     "text": [
      "search: \u001b[0m\u001b[1mp\u001b[22m\u001b[0m\u001b[1mr\u001b[22m\u001b[0m\u001b[1mi\u001b[22m\u001b[0m\u001b[1mn\u001b[22m\u001b[0m\u001b[1mt\u001b[22m\u001b[0m\u001b[1ml\u001b[22m\u001b[0m\u001b[1mn\u001b[22m \u001b[0m\u001b[1mp\u001b[22m\u001b[0m\u001b[1mr\u001b[22m\u001b[0m\u001b[1mi\u001b[22m\u001b[0m\u001b[1mn\u001b[22m\u001b[0m\u001b[1mt\u001b[22msty\u001b[0m\u001b[1ml\u001b[22med \u001b[0m\u001b[1mp\u001b[22m\u001b[0m\u001b[1mr\u001b[22m\u001b[0m\u001b[1mi\u001b[22m\u001b[0m\u001b[1mn\u001b[22m\u001b[0m\u001b[1mt\u001b[22m s\u001b[0m\u001b[1mp\u001b[22m\u001b[0m\u001b[1mr\u001b[22m\u001b[0m\u001b[1mi\u001b[22m\u001b[0m\u001b[1mn\u001b[22m\u001b[0m\u001b[1mt\u001b[22m is\u001b[0m\u001b[1mp\u001b[22m\u001b[0m\u001b[1mr\u001b[22m\u001b[0m\u001b[1mi\u001b[22m\u001b[0m\u001b[1mn\u001b[22m\u001b[0m\u001b[1mt\u001b[22m\n",
      "\n"
     ]
    },
    {
     "data": {
      "text/latex": [
       "\\begin{verbatim}\n",
       "println([io::IO], xs...)\n",
       "\\end{verbatim}\n",
       "Print (using \\href{@ref}{\\texttt{print}}) \\texttt{xs} followed by a newline. If \\texttt{io} is not supplied, prints to \\href{@ref}{\\texttt{stdout}}.\n",
       "\n",
       "See also \\href{@ref}{\\texttt{printstyled}} to add colors etc.\n",
       "\n",
       "\\section{Examples}\n",
       "\\begin{verbatim}\n",
       "julia> println(\"Hello, world\")\n",
       "Hello, world\n",
       "\n",
       "julia> io = IOBuffer();\n",
       "\n",
       "julia> println(io, \"Hello\", ',', \" world.\")\n",
       "\n",
       "julia> String(take!(io))\n",
       "\"Hello, world.\\n\"\n",
       "\\end{verbatim}\n"
      ],
      "text/markdown": [
       "```\n",
       "println([io::IO], xs...)\n",
       "```\n",
       "\n",
       "Print (using [`print`](@ref)) `xs` followed by a newline. If `io` is not supplied, prints to [`stdout`](@ref).\n",
       "\n",
       "See also [`printstyled`](@ref) to add colors etc.\n",
       "\n",
       "# Examples\n",
       "\n",
       "```jldoctest\n",
       "julia> println(\"Hello, world\")\n",
       "Hello, world\n",
       "\n",
       "julia> io = IOBuffer();\n",
       "\n",
       "julia> println(io, \"Hello\", ',', \" world.\")\n",
       "\n",
       "julia> String(take!(io))\n",
       "\"Hello, world.\\n\"\n",
       "```\n"
      ],
      "text/plain": [
       "\u001b[36m  println([io::IO], xs...)\u001b[39m\n",
       "\n",
       "  Print (using \u001b[36mprint\u001b[39m) \u001b[36mxs\u001b[39m followed by a newline. If \u001b[36mio\u001b[39m is not supplied, prints\n",
       "  to \u001b[36mstdout\u001b[39m.\n",
       "\n",
       "  See also \u001b[36mprintstyled\u001b[39m to add colors etc.\n",
       "\n",
       "\u001b[1m  Examples\u001b[22m\n",
       "\u001b[1m  ≡≡≡≡≡≡≡≡≡≡\u001b[22m\n",
       "\n",
       "\u001b[36m  julia> println(\"Hello, world\")\u001b[39m\n",
       "\u001b[36m  Hello, world\u001b[39m\n",
       "\u001b[36m  \u001b[39m\n",
       "\u001b[36m  julia> io = IOBuffer();\u001b[39m\n",
       "\u001b[36m  \u001b[39m\n",
       "\u001b[36m  julia> println(io, \"Hello\", ',', \" world.\")\u001b[39m\n",
       "\u001b[36m  \u001b[39m\n",
       "\u001b[36m  julia> String(take!(io))\u001b[39m\n",
       "\u001b[36m  \"Hello, world.\\n\"\u001b[39m"
      ]
     },
     "execution_count": 5,
     "metadata": {},
     "output_type": "execute_result"
    }
   ],
   "source": [
    "?println"
   ]
  },
  {
   "cell_type": "markdown",
   "metadata": {},
   "source": [
    "### How to use shell commands\n",
    "\n",
    "Type `;` and then you can use shell commands. For example,"
   ]
  },
  {
   "cell_type": "code",
   "execution_count": null,
   "metadata": {},
   "outputs": [],
   "source": [
    ";ls"
   ]
  },
  {
   "cell_type": "code",
   "execution_count": 1,
   "metadata": {},
   "outputs": [
    {
     "name": "stdout",
     "output_type": "stream",
     "text": [
      "/home/ossifragus/Dropbox/teaching/5125/notes/note03_report\n"
     ]
    }
   ],
   "source": [
    ";pwd"
   ]
  },
  {
   "cell_type": "markdown",
   "metadata": {
    "collapsed": true
   },
   "source": [
    "Shell commands also work at the REPL!"
   ]
  },
  {
   "cell_type": "code",
   "execution_count": 3,
   "metadata": {},
   "outputs": [
    {
     "data": {
      "image/svg+xml": [
       "<?xml version=\"1.0\" encoding=\"utf-8\"?>\n",
       "<svg xmlns=\"http://www.w3.org/2000/svg\" xmlns:xlink=\"http://www.w3.org/1999/xlink\" width=\"600\" height=\"400\" viewBox=\"0 0 2400 1600\">\n",
       "<defs>\n",
       "  <clipPath id=\"clip250\">\n",
       "    <rect x=\"0\" y=\"0\" width=\"2400\" height=\"1600\"/>\n",
       "  </clipPath>\n",
       "</defs>\n",
       "<path clip-path=\"url(#clip250)\" d=\"\n",
       "M0 1600 L2400 1600 L2400 0 L0 0  Z\n",
       "  \" fill=\"#ffffff\" fill-rule=\"evenodd\" fill-opacity=\"1\"/>\n",
       "<defs>\n",
       "  <clipPath id=\"clip251\">\n",
       "    <rect x=\"480\" y=\"0\" width=\"1681\" height=\"1600\"/>\n",
       "  </clipPath>\n",
       "</defs>\n",
       "<path clip-path=\"url(#clip250)\" d=\"\n",
       "M140.696 1486.45 L2352.76 1486.45 L2352.76 47.2441 L140.696 47.2441  Z\n",
       "  \" fill=\"#ffffff\" fill-rule=\"evenodd\" fill-opacity=\"1\"/>\n",
       "<defs>\n",
       "  <clipPath id=\"clip252\">\n",
       "    <rect x=\"140\" y=\"47\" width=\"2213\" height=\"1440\"/>\n",
       "  </clipPath>\n",
       "</defs>\n",
       "<polyline clip-path=\"url(#clip252)\" style=\"stroke:#000000; stroke-linecap:butt; stroke-linejoin:round; stroke-width:2; stroke-opacity:0.1; fill:none\" points=\"\n",
       "  262.363,1486.45 262.363,47.2441 \n",
       "  \"/>\n",
       "<polyline clip-path=\"url(#clip252)\" style=\"stroke:#000000; stroke-linecap:butt; stroke-linejoin:round; stroke-width:2; stroke-opacity:0.1; fill:none\" points=\"\n",
       "  590.484,1486.45 590.484,47.2441 \n",
       "  \"/>\n",
       "<polyline clip-path=\"url(#clip252)\" style=\"stroke:#000000; stroke-linecap:butt; stroke-linejoin:round; stroke-width:2; stroke-opacity:0.1; fill:none\" points=\"\n",
       "  918.605,1486.45 918.605,47.2441 \n",
       "  \"/>\n",
       "<polyline clip-path=\"url(#clip252)\" style=\"stroke:#000000; stroke-linecap:butt; stroke-linejoin:round; stroke-width:2; stroke-opacity:0.1; fill:none\" points=\"\n",
       "  1246.73,1486.45 1246.73,47.2441 \n",
       "  \"/>\n",
       "<polyline clip-path=\"url(#clip252)\" style=\"stroke:#000000; stroke-linecap:butt; stroke-linejoin:round; stroke-width:2; stroke-opacity:0.1; fill:none\" points=\"\n",
       "  1574.85,1486.45 1574.85,47.2441 \n",
       "  \"/>\n",
       "<polyline clip-path=\"url(#clip252)\" style=\"stroke:#000000; stroke-linecap:butt; stroke-linejoin:round; stroke-width:2; stroke-opacity:0.1; fill:none\" points=\"\n",
       "  1902.97,1486.45 1902.97,47.2441 \n",
       "  \"/>\n",
       "<polyline clip-path=\"url(#clip252)\" style=\"stroke:#000000; stroke-linecap:butt; stroke-linejoin:round; stroke-width:2; stroke-opacity:0.1; fill:none\" points=\"\n",
       "  2231.09,1486.45 2231.09,47.2441 \n",
       "  \"/>\n",
       "<polyline clip-path=\"url(#clip250)\" style=\"stroke:#000000; stroke-linecap:butt; stroke-linejoin:round; stroke-width:4; stroke-opacity:1; fill:none\" points=\"\n",
       "  140.696,1486.45 2352.76,1486.45 \n",
       "  \"/>\n",
       "<polyline clip-path=\"url(#clip250)\" style=\"stroke:#000000; stroke-linecap:butt; stroke-linejoin:round; stroke-width:4; stroke-opacity:1; fill:none\" points=\"\n",
       "  262.363,1486.45 262.363,1467.55 \n",
       "  \"/>\n",
       "<polyline clip-path=\"url(#clip250)\" style=\"stroke:#000000; stroke-linecap:butt; stroke-linejoin:round; stroke-width:4; stroke-opacity:1; fill:none\" points=\"\n",
       "  590.484,1486.45 590.484,1467.55 \n",
       "  \"/>\n",
       "<polyline clip-path=\"url(#clip250)\" style=\"stroke:#000000; stroke-linecap:butt; stroke-linejoin:round; stroke-width:4; stroke-opacity:1; fill:none\" points=\"\n",
       "  918.605,1486.45 918.605,1467.55 \n",
       "  \"/>\n",
       "<polyline clip-path=\"url(#clip250)\" style=\"stroke:#000000; stroke-linecap:butt; stroke-linejoin:round; stroke-width:4; stroke-opacity:1; fill:none\" points=\"\n",
       "  1246.73,1486.45 1246.73,1467.55 \n",
       "  \"/>\n",
       "<polyline clip-path=\"url(#clip250)\" style=\"stroke:#000000; stroke-linecap:butt; stroke-linejoin:round; stroke-width:4; stroke-opacity:1; fill:none\" points=\"\n",
       "  1574.85,1486.45 1574.85,1467.55 \n",
       "  \"/>\n",
       "<polyline clip-path=\"url(#clip250)\" style=\"stroke:#000000; stroke-linecap:butt; stroke-linejoin:round; stroke-width:4; stroke-opacity:1; fill:none\" points=\"\n",
       "  1902.97,1486.45 1902.97,1467.55 \n",
       "  \"/>\n",
       "<polyline clip-path=\"url(#clip250)\" style=\"stroke:#000000; stroke-linecap:butt; stroke-linejoin:round; stroke-width:4; stroke-opacity:1; fill:none\" points=\"\n",
       "  2231.09,1486.45 2231.09,1467.55 \n",
       "  \"/>\n",
       "<path clip-path=\"url(#clip250)\" d=\"M231.831 1532.02 L261.506 1532.02 L261.506 1535.95 L231.831 1535.95 L231.831 1532.02 Z\" fill=\"#000000\" fill-rule=\"evenodd\" fill-opacity=\"1\" /><path clip-path=\"url(#clip250)\" d=\"M285.765 1530.21 Q289.122 1530.93 290.997 1533.2 Q292.895 1535.47 292.895 1538.8 Q292.895 1543.92 289.377 1546.72 Q285.858 1549.52 279.377 1549.52 Q277.201 1549.52 274.886 1549.08 Q272.594 1548.66 270.141 1547.81 L270.141 1543.29 Q272.085 1544.43 274.4 1545.01 Q276.715 1545.58 279.238 1545.58 Q283.636 1545.58 285.927 1543.85 Q288.242 1542.11 288.242 1538.8 Q288.242 1535.75 286.09 1534.03 Q283.96 1532.3 280.14 1532.3 L276.113 1532.3 L276.113 1528.45 L280.326 1528.45 Q283.775 1528.45 285.603 1527.09 Q287.432 1525.7 287.432 1523.11 Q287.432 1520.45 285.534 1519.03 Q283.659 1517.6 280.14 1517.6 Q278.219 1517.6 276.02 1518.01 Q273.821 1518.43 271.182 1519.31 L271.182 1515.14 Q273.844 1514.4 276.159 1514.03 Q278.497 1513.66 280.557 1513.66 Q285.881 1513.66 288.983 1516.09 Q292.085 1518.5 292.085 1522.62 Q292.085 1525.49 290.441 1527.48 Q288.798 1529.45 285.765 1530.21 Z\" fill=\"#000000\" fill-rule=\"evenodd\" fill-opacity=\"1\" /><path clip-path=\"url(#clip250)\" d=\"M560.426 1532.02 L590.102 1532.02 L590.102 1535.95 L560.426 1535.95 L560.426 1532.02 Z\" fill=\"#000000\" fill-rule=\"evenodd\" fill-opacity=\"1\" /><path clip-path=\"url(#clip250)\" d=\"M604.222 1544.91 L620.541 1544.91 L620.541 1548.85 L598.597 1548.85 L598.597 1544.91 Q601.259 1542.16 605.842 1537.53 Q610.449 1532.88 611.629 1531.53 Q613.875 1529.01 614.754 1527.27 Q615.657 1525.51 615.657 1523.82 Q615.657 1521.07 613.713 1519.33 Q611.792 1517.6 608.69 1517.6 Q606.491 1517.6 604.037 1518.36 Q601.606 1519.13 598.829 1520.68 L598.829 1515.95 Q601.653 1514.82 604.106 1514.24 Q606.56 1513.66 608.597 1513.66 Q613.967 1513.66 617.162 1516.35 Q620.356 1519.03 620.356 1523.52 Q620.356 1525.65 619.546 1527.57 Q618.759 1529.47 616.653 1532.07 Q616.074 1532.74 612.972 1535.95 Q609.87 1539.15 604.222 1544.91 Z\" fill=\"#000000\" fill-rule=\"evenodd\" fill-opacity=\"1\" /><path clip-path=\"url(#clip250)\" d=\"M888.362 1532.02 L918.038 1532.02 L918.038 1535.95 L888.362 1535.95 L888.362 1532.02 Z\" fill=\"#000000\" fill-rule=\"evenodd\" fill-opacity=\"1\" /><path clip-path=\"url(#clip250)\" d=\"M928.94 1544.91 L936.579 1544.91 L936.579 1518.55 L928.269 1520.21 L928.269 1515.95 L936.533 1514.29 L941.209 1514.29 L941.209 1544.91 L948.848 1544.91 L948.848 1548.85 L928.94 1548.85 L928.94 1544.91 Z\" fill=\"#000000\" fill-rule=\"evenodd\" fill-opacity=\"1\" /><path clip-path=\"url(#clip250)\" d=\"M1246.73 1517.37 Q1243.11 1517.37 1241.29 1520.93 Q1239.48 1524.47 1239.48 1531.6 Q1239.48 1538.71 1241.29 1542.27 Q1243.11 1545.82 1246.73 1545.82 Q1250.36 1545.82 1252.17 1542.27 Q1253.99 1538.71 1253.99 1531.6 Q1253.99 1524.47 1252.17 1520.93 Q1250.36 1517.37 1246.73 1517.37 M1246.73 1513.66 Q1252.54 1513.66 1255.59 1518.27 Q1258.67 1522.85 1258.67 1531.6 Q1258.67 1540.33 1255.59 1544.94 Q1252.54 1549.52 1246.73 1549.52 Q1240.92 1549.52 1237.84 1544.94 Q1234.78 1540.33 1234.78 1531.6 Q1234.78 1522.85 1237.84 1518.27 Q1240.92 1513.66 1246.73 1513.66 Z\" fill=\"#000000\" fill-rule=\"evenodd\" fill-opacity=\"1\" /><path clip-path=\"url(#clip250)\" d=\"M1565.23 1544.91 L1572.87 1544.91 L1572.87 1518.55 L1564.56 1520.21 L1564.56 1515.95 L1572.82 1514.29 L1577.5 1514.29 L1577.5 1544.91 L1585.14 1544.91 L1585.14 1548.85 L1565.23 1548.85 L1565.23 1544.91 Z\" fill=\"#000000\" fill-rule=\"evenodd\" fill-opacity=\"1\" /><path clip-path=\"url(#clip250)\" d=\"M1897.62 1544.91 L1913.94 1544.91 L1913.94 1548.85 L1892 1548.85 L1892 1544.91 Q1894.66 1542.16 1899.24 1537.53 Q1903.85 1532.88 1905.03 1531.53 Q1907.27 1529.01 1908.15 1527.27 Q1909.06 1525.51 1909.06 1523.82 Q1909.06 1521.07 1907.11 1519.33 Q1905.19 1517.6 1902.09 1517.6 Q1899.89 1517.6 1897.44 1518.36 Q1895 1519.13 1892.23 1520.68 L1892.23 1515.95 Q1895.05 1514.82 1897.5 1514.24 Q1899.96 1513.66 1902 1513.66 Q1907.37 1513.66 1910.56 1516.35 Q1913.75 1519.03 1913.75 1523.52 Q1913.75 1525.65 1912.94 1527.57 Q1912.16 1529.47 1910.05 1532.07 Q1909.47 1532.74 1906.37 1535.95 Q1903.27 1539.15 1897.62 1544.91 Z\" fill=\"#000000\" fill-rule=\"evenodd\" fill-opacity=\"1\" /><path clip-path=\"url(#clip250)\" d=\"M2235.34 1530.21 Q2238.69 1530.93 2240.57 1533.2 Q2242.47 1535.47 2242.47 1538.8 Q2242.47 1543.92 2238.95 1546.72 Q2235.43 1549.52 2228.95 1549.52 Q2226.77 1549.52 2224.46 1549.08 Q2222.17 1548.66 2219.71 1547.81 L2219.71 1543.29 Q2221.66 1544.43 2223.97 1545.01 Q2226.29 1545.58 2228.81 1545.58 Q2233.21 1545.58 2235.5 1543.85 Q2237.81 1542.11 2237.81 1538.8 Q2237.81 1535.75 2235.66 1534.03 Q2233.53 1532.3 2229.71 1532.3 L2225.68 1532.3 L2225.68 1528.45 L2229.9 1528.45 Q2233.35 1528.45 2235.17 1527.09 Q2237 1525.7 2237 1523.11 Q2237 1520.45 2235.1 1519.03 Q2233.23 1517.6 2229.71 1517.6 Q2227.79 1517.6 2225.59 1518.01 Q2223.39 1518.43 2220.75 1519.31 L2220.75 1515.14 Q2223.42 1514.4 2225.73 1514.03 Q2228.07 1513.66 2230.13 1513.66 Q2235.45 1513.66 2238.55 1516.09 Q2241.66 1518.5 2241.66 1522.62 Q2241.66 1525.49 2240.01 1527.48 Q2238.37 1529.45 2235.34 1530.21 Z\" fill=\"#000000\" fill-rule=\"evenodd\" fill-opacity=\"1\" /><polyline clip-path=\"url(#clip252)\" style=\"stroke:#000000; stroke-linecap:butt; stroke-linejoin:round; stroke-width:2; stroke-opacity:0.1; fill:none\" points=\"\n",
       "  140.696,1445.72 2352.76,1445.72 \n",
       "  \"/>\n",
       "<polyline clip-path=\"url(#clip252)\" style=\"stroke:#000000; stroke-linecap:butt; stroke-linejoin:round; stroke-width:2; stroke-opacity:0.1; fill:none\" points=\"\n",
       "  140.696,1034.28 2352.76,1034.28 \n",
       "  \"/>\n",
       "<polyline clip-path=\"url(#clip252)\" style=\"stroke:#000000; stroke-linecap:butt; stroke-linejoin:round; stroke-width:2; stroke-opacity:0.1; fill:none\" points=\"\n",
       "  140.696,622.843 2352.76,622.843 \n",
       "  \"/>\n",
       "<polyline clip-path=\"url(#clip252)\" style=\"stroke:#000000; stroke-linecap:butt; stroke-linejoin:round; stroke-width:2; stroke-opacity:0.1; fill:none\" points=\"\n",
       "  140.696,211.407 2352.76,211.407 \n",
       "  \"/>\n",
       "<polyline clip-path=\"url(#clip250)\" style=\"stroke:#000000; stroke-linecap:butt; stroke-linejoin:round; stroke-width:4; stroke-opacity:1; fill:none\" points=\"\n",
       "  140.696,1486.45 140.696,47.2441 \n",
       "  \"/>\n",
       "<polyline clip-path=\"url(#clip250)\" style=\"stroke:#000000; stroke-linecap:butt; stroke-linejoin:round; stroke-width:4; stroke-opacity:1; fill:none\" points=\"\n",
       "  140.696,1445.72 159.593,1445.72 \n",
       "  \"/>\n",
       "<polyline clip-path=\"url(#clip250)\" style=\"stroke:#000000; stroke-linecap:butt; stroke-linejoin:round; stroke-width:4; stroke-opacity:1; fill:none\" points=\"\n",
       "  140.696,1034.28 159.593,1034.28 \n",
       "  \"/>\n",
       "<polyline clip-path=\"url(#clip250)\" style=\"stroke:#000000; stroke-linecap:butt; stroke-linejoin:round; stroke-width:4; stroke-opacity:1; fill:none\" points=\"\n",
       "  140.696,622.843 159.593,622.843 \n",
       "  \"/>\n",
       "<polyline clip-path=\"url(#clip250)\" style=\"stroke:#000000; stroke-linecap:butt; stroke-linejoin:round; stroke-width:4; stroke-opacity:1; fill:none\" points=\"\n",
       "  140.696,211.407 159.593,211.407 \n",
       "  \"/>\n",
       "<path clip-path=\"url(#clip250)\" d=\"M92.7512 1431.51 Q89.1401 1431.51 87.3114 1435.08 Q85.5058 1438.62 85.5058 1445.75 Q85.5058 1452.86 87.3114 1456.42 Q89.1401 1459.96 92.7512 1459.96 Q96.3854 1459.96 98.1909 1456.42 Q100.02 1452.86 100.02 1445.75 Q100.02 1438.62 98.1909 1435.08 Q96.3854 1431.51 92.7512 1431.51 M92.7512 1427.81 Q98.5613 1427.81 101.617 1432.42 Q104.696 1437 104.696 1445.75 Q104.696 1454.48 101.617 1459.08 Q98.5613 1463.67 92.7512 1463.67 Q86.941 1463.67 83.8623 1459.08 Q80.8068 1454.48 80.8068 1445.75 Q80.8068 1437 83.8623 1432.42 Q86.941 1427.81 92.7512 1427.81 Z\" fill=\"#000000\" fill-rule=\"evenodd\" fill-opacity=\"1\" /><path clip-path=\"url(#clip250)\" d=\"M53.3995 1047.62 L61.0384 1047.62 L61.0384 1021.26 L52.7282 1022.93 L52.7282 1018.67 L60.9921 1017 L65.668 1017 L65.668 1047.62 L73.3068 1047.62 L73.3068 1051.56 L53.3995 1051.56 L53.3995 1047.62 Z\" fill=\"#000000\" fill-rule=\"evenodd\" fill-opacity=\"1\" /><path clip-path=\"url(#clip250)\" d=\"M92.7512 1020.08 Q89.1401 1020.08 87.3114 1023.64 Q85.5058 1027.18 85.5058 1034.31 Q85.5058 1041.42 87.3114 1044.99 Q89.1401 1048.53 92.7512 1048.53 Q96.3854 1048.53 98.1909 1044.99 Q100.02 1041.42 100.02 1034.31 Q100.02 1027.18 98.1909 1023.64 Q96.3854 1020.08 92.7512 1020.08 M92.7512 1016.37 Q98.5613 1016.37 101.617 1020.98 Q104.696 1025.56 104.696 1034.31 Q104.696 1043.04 101.617 1047.65 Q98.5613 1052.23 92.7512 1052.23 Q86.941 1052.23 83.8623 1047.65 Q80.8068 1043.04 80.8068 1034.31 Q80.8068 1025.56 83.8623 1020.98 Q86.941 1016.37 92.7512 1016.37 Z\" fill=\"#000000\" fill-rule=\"evenodd\" fill-opacity=\"1\" /><path clip-path=\"url(#clip250)\" d=\"M56.6171 636.188 L72.9365 636.188 L72.9365 640.123 L50.9921 640.123 L50.9921 636.188 Q53.6541 633.434 58.2375 628.804 Q62.8439 624.151 64.0245 622.809 Q66.2698 620.285 67.1494 618.549 Q68.0522 616.79 68.0522 615.1 Q68.0522 612.346 66.1078 610.61 Q64.1865 608.873 61.0847 608.873 Q58.8856 608.873 56.4319 609.637 Q54.0014 610.401 51.2236 611.952 L51.2236 607.23 Q54.0477 606.096 56.5014 605.517 Q58.955 604.938 60.9921 604.938 Q66.3624 604.938 69.5568 607.623 Q72.7513 610.309 72.7513 614.799 Q72.7513 616.929 71.9411 618.85 Q71.1541 620.748 69.0476 623.341 Q68.4689 624.012 65.367 627.23 Q62.2652 630.424 56.6171 636.188 Z\" fill=\"#000000\" fill-rule=\"evenodd\" fill-opacity=\"1\" /><path clip-path=\"url(#clip250)\" d=\"M92.7512 608.642 Q89.1401 608.642 87.3114 612.207 Q85.5058 615.748 85.5058 622.878 Q85.5058 629.984 87.3114 633.549 Q89.1401 637.091 92.7512 637.091 Q96.3854 637.091 98.1909 633.549 Q100.02 629.984 100.02 622.878 Q100.02 615.748 98.1909 612.207 Q96.3854 608.642 92.7512 608.642 M92.7512 604.938 Q98.5613 604.938 101.617 609.545 Q104.696 614.128 104.696 622.878 Q104.696 631.605 101.617 636.211 Q98.5613 640.795 92.7512 640.795 Q86.941 640.795 83.8623 636.211 Q80.8068 631.605 80.8068 622.878 Q80.8068 614.128 83.8623 609.545 Q86.941 604.938 92.7512 604.938 Z\" fill=\"#000000\" fill-rule=\"evenodd\" fill-opacity=\"1\" /><path clip-path=\"url(#clip250)\" d=\"M66.7559 210.053 Q70.1124 210.771 71.9874 213.039 Q73.8855 215.308 73.8855 218.641 Q73.8855 223.757 70.367 226.558 Q66.8485 229.358 60.3671 229.358 Q58.1912 229.358 55.8764 228.919 Q53.5847 228.502 51.131 227.645 L51.131 223.132 Q53.0754 224.266 55.3903 224.845 Q57.7051 225.423 60.2282 225.423 Q64.6263 225.423 66.918 223.687 Q69.2328 221.951 69.2328 218.641 Q69.2328 215.585 67.08 213.872 Q64.9504 212.136 61.131 212.136 L57.1032 212.136 L57.1032 208.294 L61.3161 208.294 Q64.7652 208.294 66.5939 206.928 Q68.4226 205.539 68.4226 202.947 Q68.4226 200.285 66.5245 198.872 Q64.6495 197.437 61.131 197.437 Q59.2097 197.437 57.0106 197.854 Q54.8115 198.271 52.1727 199.15 L52.1727 194.984 Q54.8347 194.243 57.1495 193.873 Q59.4875 193.502 61.5476 193.502 Q66.8717 193.502 69.9735 195.933 Q73.0753 198.34 73.0753 202.46 Q73.0753 205.331 71.4318 207.322 Q69.7883 209.289 66.7559 210.053 Z\" fill=\"#000000\" fill-rule=\"evenodd\" fill-opacity=\"1\" /><path clip-path=\"url(#clip250)\" d=\"M92.7512 197.206 Q89.1401 197.206 87.3114 200.771 Q85.5058 204.312 85.5058 211.442 Q85.5058 218.548 87.3114 222.113 Q89.1401 225.655 92.7512 225.655 Q96.3854 225.655 98.1909 222.113 Q100.02 218.548 100.02 211.442 Q100.02 204.312 98.1909 200.771 Q96.3854 197.206 92.7512 197.206 M92.7512 193.502 Q98.5613 193.502 101.617 198.109 Q104.696 202.692 104.696 211.442 Q104.696 220.169 101.617 224.775 Q98.5613 229.358 92.7512 229.358 Q86.941 229.358 83.8623 224.775 Q80.8068 220.169 80.8068 211.442 Q80.8068 202.692 83.8623 198.109 Q86.941 193.502 92.7512 193.502 Z\" fill=\"#000000\" fill-rule=\"evenodd\" fill-opacity=\"1\" /><path clip-path=\"url(#clip252)\" d=\"\n",
       "M262.363 1404.57 L262.363 1445.72 L590.484 1445.72 L590.484 1404.57 L262.363 1404.57 L262.363 1404.57  Z\n",
       "  \" fill=\"#009af9\" fill-rule=\"evenodd\" fill-opacity=\"1\"/>\n",
       "<polyline clip-path=\"url(#clip252)\" style=\"stroke:#000000; stroke-linecap:butt; stroke-linejoin:round; stroke-width:4; stroke-opacity:1; fill:none\" points=\"\n",
       "  262.363,1404.57 262.363,1445.72 590.484,1445.72 590.484,1404.57 262.363,1404.57 \n",
       "  \"/>\n",
       "<path clip-path=\"url(#clip252)\" d=\"\n",
       "M590.484 746.274 L590.484 1445.72 L918.605 1445.72 L918.605 746.274 L590.484 746.274 L590.484 746.274  Z\n",
       "  \" fill=\"#009af9\" fill-rule=\"evenodd\" fill-opacity=\"1\"/>\n",
       "<polyline clip-path=\"url(#clip252)\" style=\"stroke:#000000; stroke-linecap:butt; stroke-linejoin:round; stroke-width:4; stroke-opacity:1; fill:none\" points=\"\n",
       "  590.484,746.274 590.484,1445.72 918.605,1445.72 918.605,746.274 590.484,746.274 \n",
       "  \"/>\n",
       "<path clip-path=\"url(#clip252)\" d=\"\n",
       "M918.605 87.9763 L918.605 1445.72 L1246.73 1445.72 L1246.73 87.9763 L918.605 87.9763 L918.605 87.9763  Z\n",
       "  \" fill=\"#009af9\" fill-rule=\"evenodd\" fill-opacity=\"1\"/>\n",
       "<polyline clip-path=\"url(#clip252)\" style=\"stroke:#000000; stroke-linecap:butt; stroke-linejoin:round; stroke-width:4; stroke-opacity:1; fill:none\" points=\"\n",
       "  918.605,87.9763 918.605,1445.72 1246.73,1445.72 1246.73,87.9763 918.605,87.9763 \n",
       "  \"/>\n",
       "<path clip-path=\"url(#clip252)\" d=\"\n",
       "M1246.73 170.264 L1246.73 1445.72 L1574.85 1445.72 L1574.85 170.264 L1246.73 170.264 L1246.73 170.264  Z\n",
       "  \" fill=\"#009af9\" fill-rule=\"evenodd\" fill-opacity=\"1\"/>\n",
       "<polyline clip-path=\"url(#clip252)\" style=\"stroke:#000000; stroke-linecap:butt; stroke-linejoin:round; stroke-width:4; stroke-opacity:1; fill:none\" points=\"\n",
       "  1246.73,170.264 1246.73,1445.72 1574.85,1445.72 1574.85,170.264 1246.73,170.264 \n",
       "  \"/>\n",
       "<path clip-path=\"url(#clip252)\" d=\"\n",
       "M1574.85 828.561 L1574.85 1445.72 L1902.97 1445.72 L1902.97 828.561 L1574.85 828.561 L1574.85 828.561  Z\n",
       "  \" fill=\"#009af9\" fill-rule=\"evenodd\" fill-opacity=\"1\"/>\n",
       "<polyline clip-path=\"url(#clip252)\" style=\"stroke:#000000; stroke-linecap:butt; stroke-linejoin:round; stroke-width:4; stroke-opacity:1; fill:none\" points=\"\n",
       "  1574.85,828.561 1574.85,1445.72 1902.97,1445.72 1902.97,828.561 1574.85,828.561 \n",
       "  \"/>\n",
       "<path clip-path=\"url(#clip252)\" d=\"\n",
       "M1902.97 1322.28 L1902.97 1445.72 L2231.09 1445.72 L2231.09 1322.28 L1902.97 1322.28 L1902.97 1322.28  Z\n",
       "  \" fill=\"#009af9\" fill-rule=\"evenodd\" fill-opacity=\"1\"/>\n",
       "<polyline clip-path=\"url(#clip252)\" style=\"stroke:#000000; stroke-linecap:butt; stroke-linejoin:round; stroke-width:4; stroke-opacity:1; fill:none\" points=\"\n",
       "  1902.97,1322.28 1902.97,1445.72 2231.09,1445.72 2231.09,1322.28 1902.97,1322.28 \n",
       "  \"/>\n",
       "<circle clip-path=\"url(#clip252)\" style=\"fill:#009af9; stroke:none; fill-opacity:0\" cx=\"426.423\" cy=\"1404.57\" r=\"2\"/>\n",
       "<circle clip-path=\"url(#clip252)\" style=\"fill:#009af9; stroke:none; fill-opacity:0\" cx=\"754.544\" cy=\"746.274\" r=\"2\"/>\n",
       "<circle clip-path=\"url(#clip252)\" style=\"fill:#009af9; stroke:none; fill-opacity:0\" cx=\"1082.67\" cy=\"87.9763\" r=\"2\"/>\n",
       "<circle clip-path=\"url(#clip252)\" style=\"fill:#009af9; stroke:none; fill-opacity:0\" cx=\"1410.79\" cy=\"170.264\" r=\"2\"/>\n",
       "<circle clip-path=\"url(#clip252)\" style=\"fill:#009af9; stroke:none; fill-opacity:0\" cx=\"1738.91\" cy=\"828.561\" r=\"2\"/>\n",
       "<circle clip-path=\"url(#clip252)\" style=\"fill:#009af9; stroke:none; fill-opacity:0\" cx=\"2067.03\" cy=\"1322.28\" r=\"2\"/>\n",
       "<path clip-path=\"url(#clip250)\" d=\"\n",
       "M1986.59 198.898 L2279.02 198.898 L2279.02 95.2176 L1986.59 95.2176  Z\n",
       "  \" fill=\"#ffffff\" fill-rule=\"evenodd\" fill-opacity=\"1\"/>\n",
       "<polyline clip-path=\"url(#clip250)\" style=\"stroke:#000000; stroke-linecap:butt; stroke-linejoin:round; stroke-width:4; stroke-opacity:1; fill:none\" points=\"\n",
       "  1986.59,198.898 2279.02,198.898 2279.02,95.2176 1986.59,95.2176 1986.59,198.898 \n",
       "  \"/>\n",
       "<path clip-path=\"url(#clip250)\" d=\"\n",
       "M2010.59 167.794 L2154.59 167.794 L2154.59 126.322 L2010.59 126.322 L2010.59 167.794  Z\n",
       "  \" fill=\"#009af9\" fill-rule=\"evenodd\" fill-opacity=\"1\"/>\n",
       "<polyline clip-path=\"url(#clip250)\" style=\"stroke:#000000; stroke-linecap:butt; stroke-linejoin:round; stroke-width:4; stroke-opacity:1; fill:none\" points=\"\n",
       "  2010.59,167.794 2154.59,167.794 2154.59,126.322 2010.59,126.322 2010.59,167.794 \n",
       "  \"/>\n",
       "<path clip-path=\"url(#clip250)\" d=\"M2192.43 166.745 Q2190.63 171.375 2188.91 172.787 Q2187.2 174.199 2184.33 174.199 L2180.93 174.199 L2180.93 170.634 L2183.43 170.634 Q2185.19 170.634 2186.16 169.8 Q2187.13 168.967 2188.31 165.865 L2189.08 163.921 L2178.59 138.412 L2183.1 138.412 L2191.21 158.689 L2199.31 138.412 L2203.82 138.412 L2192.43 166.745 Z\" fill=\"#000000\" fill-rule=\"evenodd\" fill-opacity=\"1\" /><path clip-path=\"url(#clip250)\" d=\"M2211.11 160.402 L2218.75 160.402 L2218.75 134.037 L2210.44 135.703 L2210.44 131.444 L2218.71 129.778 L2223.38 129.778 L2223.38 160.402 L2231.02 160.402 L2231.02 164.338 L2211.11 164.338 L2211.11 160.402 Z\" fill=\"#000000\" fill-rule=\"evenodd\" fill-opacity=\"1\" /></svg>\n"
      ]
     },
     "execution_count": 3,
     "metadata": {},
     "output_type": "execute_result"
    }
   ],
   "source": [
    "using Plots\n",
    "histogram(randn(100))"
   ]
  },
  {
   "cell_type": "code",
   "execution_count": 8,
   "metadata": {},
   "outputs": [
    {
     "data": {
      "text/plain": [
       "1"
      ]
     },
     "execution_count": 8,
     "metadata": {},
     "output_type": "execute_result"
    }
   ],
   "source": [
    "y = x"
   ]
  },
  {
   "cell_type": "code",
   "execution_count": 7,
   "metadata": {},
   "outputs": [
    {
     "data": {
      "text/plain": [
       "1"
      ]
     },
     "execution_count": 7,
     "metadata": {},
     "output_type": "execute_result"
    }
   ],
   "source": [
    "x = 1"
   ]
  },
  {
   "cell_type": "code",
   "execution_count": null,
   "metadata": {},
   "outputs": [],
   "source": []
  }
 ],
 "metadata": {
  "kernelspec": {
   "display_name": "Julia 1.7.2",
   "language": "julia",
   "name": "julia-1.7"
  },
  "language_info": {
   "file_extension": ".jl",
   "mimetype": "application/julia",
   "name": "julia",
   "version": "1.7.2"
  }
 },
 "nbformat": 4,
 "nbformat_minor": 2
}
